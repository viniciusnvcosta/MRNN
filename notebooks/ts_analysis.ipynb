{
 "cells": [
  {
   "cell_type": "markdown",
   "metadata": {},
   "source": [
    "## Analyze the time series data"
   ]
  },
  {
   "cell_type": "code",
   "execution_count": 1,
   "metadata": {},
   "outputs": [],
   "source": [
    "import os\n",
    "import pandas as pd"
   ]
  },
  {
   "cell_type": "code",
   "execution_count": 2,
   "metadata": {},
   "outputs": [
    {
     "data": {
      "text/plain": [
       "'/home/vinus/projects/MRNN'"
      ]
     },
     "execution_count": 2,
     "metadata": {},
     "output_type": "execute_result"
    }
   ],
   "source": [
    "os.chdir('../')\n",
    "os.getcwd()"
   ]
  },
  {
   "cell_type": "code",
   "execution_count": 3,
   "metadata": {},
   "outputs": [],
   "source": [
    "# convert .xlsx to .csv\n",
    "# pd.read_excel('data/next_medication_doses_biweek_dataframe_v1.xlsx').to_csv('data/next_medication_doses_biweek_dataframe_v1.csv', index=False)"
   ]
  },
  {
   "cell_type": "code",
   "execution_count": 7,
   "metadata": {},
   "outputs": [
    {
     "data": {
      "text/html": [
       "<div>\n",
       "<style scoped>\n",
       "    .dataframe tbody tr th:only-of-type {\n",
       "        vertical-align: middle;\n",
       "    }\n",
       "\n",
       "    .dataframe tbody tr th {\n",
       "        vertical-align: top;\n",
       "    }\n",
       "\n",
       "    .dataframe thead th {\n",
       "        text-align: right;\n",
       "    }\n",
       "</style>\n",
       "<table border=\"1\" class=\"dataframe\">\n",
       "  <thead>\n",
       "    <tr style=\"text-align: right;\">\n",
       "      <th></th>\n",
       "      <th>Study ID</th>\n",
       "      <th>Date</th>\n",
       "      <th>ACEI</th>\n",
       "      <th>ACEI_DOSE</th>\n",
       "      <th>ACEI_PCT_TARGET</th>\n",
       "      <th>ARB</th>\n",
       "      <th>ARB_DOSE</th>\n",
       "      <th>ARB_PCT_TARGET</th>\n",
       "      <th>ARNI</th>\n",
       "      <th>ARNI_DOSE</th>\n",
       "      <th>...</th>\n",
       "      <th>SX_HYPOTENSION_RAASI</th>\n",
       "      <th>SX_BRADICARDIA_RAASI</th>\n",
       "      <th>SX_BRADICARDIA_BB</th>\n",
       "      <th>SX_HYPOTENSION_BB</th>\n",
       "      <th>SX_BRADICARDIA_MRA</th>\n",
       "      <th>SX_HYPOTENSION_MRA</th>\n",
       "      <th>SX_BRADICARDIA</th>\n",
       "      <th>SX_HYPOTENSION</th>\n",
       "      <th>Sex</th>\n",
       "      <th>Age</th>\n",
       "    </tr>\n",
       "  </thead>\n",
       "  <tbody>\n",
       "    <tr>\n",
       "      <th>0</th>\n",
       "      <td>HF-0001</td>\n",
       "      <td>2020-01-29</td>\n",
       "      <td>NaN</td>\n",
       "      <td>NaN</td>\n",
       "      <td>0.0</td>\n",
       "      <td>NaN</td>\n",
       "      <td>NaN</td>\n",
       "      <td>0.0</td>\n",
       "      <td>Sacubitril/valsartan</td>\n",
       "      <td>48.0</td>\n",
       "      <td>...</td>\n",
       "      <td>False</td>\n",
       "      <td>False</td>\n",
       "      <td>False</td>\n",
       "      <td>False</td>\n",
       "      <td>False</td>\n",
       "      <td>False</td>\n",
       "      <td>False</td>\n",
       "      <td>False</td>\n",
       "      <td>1.0</td>\n",
       "      <td>61.0</td>\n",
       "    </tr>\n",
       "    <tr>\n",
       "      <th>1</th>\n",
       "      <td>HF-0001</td>\n",
       "      <td>2020-04-28</td>\n",
       "      <td>NaN</td>\n",
       "      <td>NaN</td>\n",
       "      <td>0.0</td>\n",
       "      <td>NaN</td>\n",
       "      <td>NaN</td>\n",
       "      <td>0.0</td>\n",
       "      <td>Sacubitril/valsartan</td>\n",
       "      <td>196.0</td>\n",
       "      <td>...</td>\n",
       "      <td>False</td>\n",
       "      <td>False</td>\n",
       "      <td>False</td>\n",
       "      <td>False</td>\n",
       "      <td>False</td>\n",
       "      <td>False</td>\n",
       "      <td>False</td>\n",
       "      <td>False</td>\n",
       "      <td>1.0</td>\n",
       "      <td>61.0</td>\n",
       "    </tr>\n",
       "    <tr>\n",
       "      <th>2</th>\n",
       "      <td>HF-0001</td>\n",
       "      <td>2020-09-16</td>\n",
       "      <td>NaN</td>\n",
       "      <td>NaN</td>\n",
       "      <td>0.0</td>\n",
       "      <td>NaN</td>\n",
       "      <td>NaN</td>\n",
       "      <td>0.0</td>\n",
       "      <td>Sacubitril/valsartan</td>\n",
       "      <td>98.0</td>\n",
       "      <td>...</td>\n",
       "      <td>False</td>\n",
       "      <td>False</td>\n",
       "      <td>False</td>\n",
       "      <td>False</td>\n",
       "      <td>False</td>\n",
       "      <td>False</td>\n",
       "      <td>False</td>\n",
       "      <td>False</td>\n",
       "      <td>1.0</td>\n",
       "      <td>61.0</td>\n",
       "    </tr>\n",
       "    <tr>\n",
       "      <th>3</th>\n",
       "      <td>HF-0002</td>\n",
       "      <td>2020-01-29</td>\n",
       "      <td>NaN</td>\n",
       "      <td>NaN</td>\n",
       "      <td>0.0</td>\n",
       "      <td>NaN</td>\n",
       "      <td>NaN</td>\n",
       "      <td>0.0</td>\n",
       "      <td>Sacubitril/valsartan</td>\n",
       "      <td>48.0</td>\n",
       "      <td>...</td>\n",
       "      <td>False</td>\n",
       "      <td>False</td>\n",
       "      <td>False</td>\n",
       "      <td>False</td>\n",
       "      <td>False</td>\n",
       "      <td>False</td>\n",
       "      <td>False</td>\n",
       "      <td>False</td>\n",
       "      <td>1.0</td>\n",
       "      <td>63.0</td>\n",
       "    </tr>\n",
       "    <tr>\n",
       "      <th>4</th>\n",
       "      <td>HF-0002</td>\n",
       "      <td>2020-02-19</td>\n",
       "      <td>NaN</td>\n",
       "      <td>NaN</td>\n",
       "      <td>0.0</td>\n",
       "      <td>NaN</td>\n",
       "      <td>NaN</td>\n",
       "      <td>0.0</td>\n",
       "      <td>Sacubitril/valsartan</td>\n",
       "      <td>73.0</td>\n",
       "      <td>...</td>\n",
       "      <td>False</td>\n",
       "      <td>False</td>\n",
       "      <td>False</td>\n",
       "      <td>False</td>\n",
       "      <td>False</td>\n",
       "      <td>False</td>\n",
       "      <td>False</td>\n",
       "      <td>False</td>\n",
       "      <td>1.0</td>\n",
       "      <td>63.0</td>\n",
       "    </tr>\n",
       "  </tbody>\n",
       "</table>\n",
       "<p>5 rows × 90 columns</p>\n",
       "</div>"
      ],
      "text/plain": [
       "  Study ID        Date ACEI  ACEI_DOSE  ACEI_PCT_TARGET  ARB  ARB_DOSE  \\\n",
       "0  HF-0001  2020-01-29  NaN        NaN              0.0  NaN       NaN   \n",
       "1  HF-0001  2020-04-28  NaN        NaN              0.0  NaN       NaN   \n",
       "2  HF-0001  2020-09-16  NaN        NaN              0.0  NaN       NaN   \n",
       "3  HF-0002  2020-01-29  NaN        NaN              0.0  NaN       NaN   \n",
       "4  HF-0002  2020-02-19  NaN        NaN              0.0  NaN       NaN   \n",
       "\n",
       "   ARB_PCT_TARGET                  ARNI  ARNI_DOSE  ...  SX_HYPOTENSION_RAASI  \\\n",
       "0             0.0  Sacubitril/valsartan       48.0  ...                 False   \n",
       "1             0.0  Sacubitril/valsartan      196.0  ...                 False   \n",
       "2             0.0  Sacubitril/valsartan       98.0  ...                 False   \n",
       "3             0.0  Sacubitril/valsartan       48.0  ...                 False   \n",
       "4             0.0  Sacubitril/valsartan       73.0  ...                 False   \n",
       "\n",
       "   SX_BRADICARDIA_RAASI  SX_BRADICARDIA_BB SX_HYPOTENSION_BB  \\\n",
       "0                 False              False             False   \n",
       "1                 False              False             False   \n",
       "2                 False              False             False   \n",
       "3                 False              False             False   \n",
       "4                 False              False             False   \n",
       "\n",
       "   SX_BRADICARDIA_MRA  SX_HYPOTENSION_MRA SX_BRADICARDIA  SX_HYPOTENSION  Sex  \\\n",
       "0               False               False          False           False  1.0   \n",
       "1               False               False          False           False  1.0   \n",
       "2               False               False          False           False  1.0   \n",
       "3               False               False          False           False  1.0   \n",
       "4               False               False          False           False  1.0   \n",
       "\n",
       "    Age  \n",
       "0  61.0  \n",
       "1  61.0  \n",
       "2  61.0  \n",
       "3  63.0  \n",
       "4  63.0  \n",
       "\n",
       "[5 rows x 90 columns]"
      ]
     },
     "execution_count": 7,
     "metadata": {},
     "output_type": "execute_result"
    }
   ],
   "source": [
    "df = pd.read_csv('data/next_medication_doses_biweek_dataframe_v1.csv').drop(columns=['Unnamed: 0'])\n",
    "df.head()"
   ]
  },
  {
   "cell_type": "code",
   "execution_count": 13,
   "metadata": {},
   "outputs": [
    {
     "data": {
      "text/plain": [
       "90"
      ]
     },
     "execution_count": 13,
     "metadata": {},
     "output_type": "execute_result"
    }
   ],
   "source": [
    "df.columns.size"
   ]
  }
 ],
 "metadata": {
  "kernelspec": {
   "display_name": "vitally",
   "language": "python",
   "name": "python3"
  },
  "language_info": {
   "codemirror_mode": {
    "name": "ipython",
    "version": 3
   },
   "file_extension": ".py",
   "mimetype": "text/x-python",
   "name": "python",
   "nbconvert_exporter": "python",
   "pygments_lexer": "ipython3",
   "version": "3.11.9"
  }
 },
 "nbformat": 4,
 "nbformat_minor": 2
}
